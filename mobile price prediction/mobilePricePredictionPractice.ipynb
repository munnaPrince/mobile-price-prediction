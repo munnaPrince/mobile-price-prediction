{
 "cells": [
  {
   "cell_type": "code",
   "execution_count": 1,
   "id": "abandoned-tribe",
   "metadata": {},
   "outputs": [],
   "source": [
    "import numpy as np\n",
    "import pandas as pd"
   ]
  },
  {
   "cell_type": "code",
   "execution_count": 2,
   "id": "renewable-speed",
   "metadata": {
    "scrolled": true
   },
   "outputs": [
    {
     "data": {
      "text/html": [
       "<div>\n",
       "<style scoped>\n",
       "    .dataframe tbody tr th:only-of-type {\n",
       "        vertical-align: middle;\n",
       "    }\n",
       "\n",
       "    .dataframe tbody tr th {\n",
       "        vertical-align: top;\n",
       "    }\n",
       "\n",
       "    .dataframe thead th {\n",
       "        text-align: right;\n",
       "    }\n",
       "</style>\n",
       "<table border=\"1\" class=\"dataframe\">\n",
       "  <thead>\n",
       "    <tr style=\"text-align: right;\">\n",
       "      <th></th>\n",
       "      <th>battery_power</th>\n",
       "      <th>blue</th>\n",
       "      <th>clock_speed</th>\n",
       "      <th>dual_sim</th>\n",
       "      <th>fc</th>\n",
       "      <th>four_g</th>\n",
       "      <th>int_memory</th>\n",
       "      <th>m_dep</th>\n",
       "      <th>mobile_wt</th>\n",
       "      <th>n_cores</th>\n",
       "      <th>...</th>\n",
       "      <th>px_height</th>\n",
       "      <th>px_width</th>\n",
       "      <th>ram</th>\n",
       "      <th>sc_h</th>\n",
       "      <th>sc_w</th>\n",
       "      <th>talk_time</th>\n",
       "      <th>three_g</th>\n",
       "      <th>touch_screen</th>\n",
       "      <th>wifi</th>\n",
       "      <th>price_range</th>\n",
       "    </tr>\n",
       "  </thead>\n",
       "  <tbody>\n",
       "    <tr>\n",
       "      <th>0</th>\n",
       "      <td>842</td>\n",
       "      <td>0</td>\n",
       "      <td>2.2</td>\n",
       "      <td>0</td>\n",
       "      <td>1</td>\n",
       "      <td>0</td>\n",
       "      <td>7</td>\n",
       "      <td>0.6</td>\n",
       "      <td>188</td>\n",
       "      <td>2</td>\n",
       "      <td>...</td>\n",
       "      <td>20</td>\n",
       "      <td>756</td>\n",
       "      <td>2549</td>\n",
       "      <td>9</td>\n",
       "      <td>7</td>\n",
       "      <td>19</td>\n",
       "      <td>0</td>\n",
       "      <td>0</td>\n",
       "      <td>1</td>\n",
       "      <td>1</td>\n",
       "    </tr>\n",
       "    <tr>\n",
       "      <th>1</th>\n",
       "      <td>1021</td>\n",
       "      <td>1</td>\n",
       "      <td>0.5</td>\n",
       "      <td>1</td>\n",
       "      <td>0</td>\n",
       "      <td>1</td>\n",
       "      <td>53</td>\n",
       "      <td>0.7</td>\n",
       "      <td>136</td>\n",
       "      <td>3</td>\n",
       "      <td>...</td>\n",
       "      <td>905</td>\n",
       "      <td>1988</td>\n",
       "      <td>2631</td>\n",
       "      <td>17</td>\n",
       "      <td>3</td>\n",
       "      <td>7</td>\n",
       "      <td>1</td>\n",
       "      <td>1</td>\n",
       "      <td>0</td>\n",
       "      <td>2</td>\n",
       "    </tr>\n",
       "    <tr>\n",
       "      <th>2</th>\n",
       "      <td>563</td>\n",
       "      <td>1</td>\n",
       "      <td>0.5</td>\n",
       "      <td>1</td>\n",
       "      <td>2</td>\n",
       "      <td>1</td>\n",
       "      <td>41</td>\n",
       "      <td>0.9</td>\n",
       "      <td>145</td>\n",
       "      <td>5</td>\n",
       "      <td>...</td>\n",
       "      <td>1263</td>\n",
       "      <td>1716</td>\n",
       "      <td>2603</td>\n",
       "      <td>11</td>\n",
       "      <td>2</td>\n",
       "      <td>9</td>\n",
       "      <td>1</td>\n",
       "      <td>1</td>\n",
       "      <td>0</td>\n",
       "      <td>2</td>\n",
       "    </tr>\n",
       "    <tr>\n",
       "      <th>3</th>\n",
       "      <td>615</td>\n",
       "      <td>1</td>\n",
       "      <td>2.5</td>\n",
       "      <td>0</td>\n",
       "      <td>0</td>\n",
       "      <td>0</td>\n",
       "      <td>10</td>\n",
       "      <td>0.8</td>\n",
       "      <td>131</td>\n",
       "      <td>6</td>\n",
       "      <td>...</td>\n",
       "      <td>1216</td>\n",
       "      <td>1786</td>\n",
       "      <td>2769</td>\n",
       "      <td>16</td>\n",
       "      <td>8</td>\n",
       "      <td>11</td>\n",
       "      <td>1</td>\n",
       "      <td>0</td>\n",
       "      <td>0</td>\n",
       "      <td>2</td>\n",
       "    </tr>\n",
       "    <tr>\n",
       "      <th>4</th>\n",
       "      <td>1821</td>\n",
       "      <td>1</td>\n",
       "      <td>1.2</td>\n",
       "      <td>0</td>\n",
       "      <td>13</td>\n",
       "      <td>1</td>\n",
       "      <td>44</td>\n",
       "      <td>0.6</td>\n",
       "      <td>141</td>\n",
       "      <td>2</td>\n",
       "      <td>...</td>\n",
       "      <td>1208</td>\n",
       "      <td>1212</td>\n",
       "      <td>1411</td>\n",
       "      <td>8</td>\n",
       "      <td>2</td>\n",
       "      <td>15</td>\n",
       "      <td>1</td>\n",
       "      <td>1</td>\n",
       "      <td>0</td>\n",
       "      <td>1</td>\n",
       "    </tr>\n",
       "  </tbody>\n",
       "</table>\n",
       "<p>5 rows × 21 columns</p>\n",
       "</div>"
      ],
      "text/plain": [
       "   battery_power  blue  clock_speed  dual_sim  fc  four_g  int_memory  m_dep  \\\n",
       "0            842     0          2.2         0   1       0           7    0.6   \n",
       "1           1021     1          0.5         1   0       1          53    0.7   \n",
       "2            563     1          0.5         1   2       1          41    0.9   \n",
       "3            615     1          2.5         0   0       0          10    0.8   \n",
       "4           1821     1          1.2         0  13       1          44    0.6   \n",
       "\n",
       "   mobile_wt  n_cores  ...  px_height  px_width   ram  sc_h  sc_w  talk_time  \\\n",
       "0        188        2  ...         20       756  2549     9     7         19   \n",
       "1        136        3  ...        905      1988  2631    17     3          7   \n",
       "2        145        5  ...       1263      1716  2603    11     2          9   \n",
       "3        131        6  ...       1216      1786  2769    16     8         11   \n",
       "4        141        2  ...       1208      1212  1411     8     2         15   \n",
       "\n",
       "   three_g  touch_screen  wifi  price_range  \n",
       "0        0             0     1            1  \n",
       "1        1             1     0            2  \n",
       "2        1             1     0            2  \n",
       "3        1             0     0            2  \n",
       "4        1             1     0            1  \n",
       "\n",
       "[5 rows x 21 columns]"
      ]
     },
     "execution_count": 2,
     "metadata": {},
     "output_type": "execute_result"
    }
   ],
   "source": [
    "data = pd.read_csv(\"train.csv\")\n",
    "data.head()"
   ]
  },
  {
   "cell_type": "code",
   "execution_count": 3,
   "id": "expected-wisdom",
   "metadata": {},
   "outputs": [
    {
     "data": {
      "text/plain": [
       "Index(['battery_power', 'blue', 'clock_speed', 'dual_sim', 'fc', 'four_g',\n",
       "       'int_memory', 'm_dep', 'mobile_wt', 'n_cores', 'pc', 'px_height',\n",
       "       'px_width', 'ram', 'sc_h', 'sc_w', 'talk_time', 'three_g',\n",
       "       'touch_screen', 'wifi', 'price_range'],\n",
       "      dtype='object')"
      ]
     },
     "execution_count": 3,
     "metadata": {},
     "output_type": "execute_result"
    }
   ],
   "source": [
    "data.columns"
   ]
  },
  {
   "cell_type": "code",
   "execution_count": 4,
   "id": "missing-letter",
   "metadata": {},
   "outputs": [
    {
     "name": "stdout",
     "output_type": "stream",
     "text": [
      "<class 'pandas.core.frame.DataFrame'>\n",
      "RangeIndex: 2000 entries, 0 to 1999\n",
      "Data columns (total 21 columns):\n",
      " #   Column         Non-Null Count  Dtype  \n",
      "---  ------         --------------  -----  \n",
      " 0   battery_power  2000 non-null   int64  \n",
      " 1   blue           2000 non-null   int64  \n",
      " 2   clock_speed    2000 non-null   float64\n",
      " 3   dual_sim       2000 non-null   int64  \n",
      " 4   fc             2000 non-null   int64  \n",
      " 5   four_g         2000 non-null   int64  \n",
      " 6   int_memory     2000 non-null   int64  \n",
      " 7   m_dep          2000 non-null   float64\n",
      " 8   mobile_wt      2000 non-null   int64  \n",
      " 9   n_cores        2000 non-null   int64  \n",
      " 10  pc             2000 non-null   int64  \n",
      " 11  px_height      2000 non-null   int64  \n",
      " 12  px_width       2000 non-null   int64  \n",
      " 13  ram            2000 non-null   int64  \n",
      " 14  sc_h           2000 non-null   int64  \n",
      " 15  sc_w           2000 non-null   int64  \n",
      " 16  talk_time      2000 non-null   int64  \n",
      " 17  three_g        2000 non-null   int64  \n",
      " 18  touch_screen   2000 non-null   int64  \n",
      " 19  wifi           2000 non-null   int64  \n",
      " 20  price_range    2000 non-null   int64  \n",
      "dtypes: float64(2), int64(19)\n",
      "memory usage: 328.2 KB\n"
     ]
    }
   ],
   "source": [
    "data.info()"
   ]
  },
  {
   "cell_type": "code",
   "execution_count": 5,
   "id": "massive-exception",
   "metadata": {},
   "outputs": [],
   "source": [
    "data.dropna(inplace = True)"
   ]
  },
  {
   "cell_type": "code",
   "execution_count": 6,
   "id": "oriental-compound",
   "metadata": {},
   "outputs": [
    {
     "name": "stdout",
     "output_type": "stream",
     "text": [
      "<class 'pandas.core.frame.DataFrame'>\n",
      "Int64Index: 2000 entries, 0 to 1999\n",
      "Data columns (total 21 columns):\n",
      " #   Column         Non-Null Count  Dtype  \n",
      "---  ------         --------------  -----  \n",
      " 0   battery_power  2000 non-null   int64  \n",
      " 1   blue           2000 non-null   int64  \n",
      " 2   clock_speed    2000 non-null   float64\n",
      " 3   dual_sim       2000 non-null   int64  \n",
      " 4   fc             2000 non-null   int64  \n",
      " 5   four_g         2000 non-null   int64  \n",
      " 6   int_memory     2000 non-null   int64  \n",
      " 7   m_dep          2000 non-null   float64\n",
      " 8   mobile_wt      2000 non-null   int64  \n",
      " 9   n_cores        2000 non-null   int64  \n",
      " 10  pc             2000 non-null   int64  \n",
      " 11  px_height      2000 non-null   int64  \n",
      " 12  px_width       2000 non-null   int64  \n",
      " 13  ram            2000 non-null   int64  \n",
      " 14  sc_h           2000 non-null   int64  \n",
      " 15  sc_w           2000 non-null   int64  \n",
      " 16  talk_time      2000 non-null   int64  \n",
      " 17  three_g        2000 non-null   int64  \n",
      " 18  touch_screen   2000 non-null   int64  \n",
      " 19  wifi           2000 non-null   int64  \n",
      " 20  price_range    2000 non-null   int64  \n",
      "dtypes: float64(2), int64(19)\n",
      "memory usage: 343.8 KB\n"
     ]
    }
   ],
   "source": [
    "data.info()"
   ]
  },
  {
   "cell_type": "code",
   "execution_count": 7,
   "id": "widespread-wound",
   "metadata": {},
   "outputs": [],
   "source": [
    "from sklearn.ensemble import RandomForestRegressor\n",
    "from sklearn.model_selection import train_test_split\n",
    "\n",
    "X= data.loc[:,['battery_power', 'blue', 'clock_speed', 'dual_sim', 'fc', 'four_g',\n",
    "       'int_memory', 'm_dep', 'mobile_wt', 'n_cores', 'pc', 'px_height',\n",
    "       'px_width', 'ram', 'sc_h', 'sc_w', 'talk_time', 'three_g',\n",
    "       'touch_screen', 'wifi']]\n",
    "y=data[\"price_range\"]"
   ]
  },
  {
   "cell_type": "code",
   "execution_count": 8,
   "id": "australian-geology",
   "metadata": {},
   "outputs": [
    {
     "data": {
      "text/html": [
       "<div>\n",
       "<style scoped>\n",
       "    .dataframe tbody tr th:only-of-type {\n",
       "        vertical-align: middle;\n",
       "    }\n",
       "\n",
       "    .dataframe tbody tr th {\n",
       "        vertical-align: top;\n",
       "    }\n",
       "\n",
       "    .dataframe thead th {\n",
       "        text-align: right;\n",
       "    }\n",
       "</style>\n",
       "<table border=\"1\" class=\"dataframe\">\n",
       "  <thead>\n",
       "    <tr style=\"text-align: right;\">\n",
       "      <th></th>\n",
       "      <th>battery_power</th>\n",
       "      <th>blue</th>\n",
       "      <th>clock_speed</th>\n",
       "      <th>dual_sim</th>\n",
       "      <th>fc</th>\n",
       "      <th>four_g</th>\n",
       "      <th>int_memory</th>\n",
       "      <th>m_dep</th>\n",
       "      <th>mobile_wt</th>\n",
       "      <th>n_cores</th>\n",
       "      <th>pc</th>\n",
       "      <th>px_height</th>\n",
       "      <th>px_width</th>\n",
       "      <th>ram</th>\n",
       "      <th>sc_h</th>\n",
       "      <th>sc_w</th>\n",
       "      <th>talk_time</th>\n",
       "      <th>three_g</th>\n",
       "      <th>touch_screen</th>\n",
       "      <th>wifi</th>\n",
       "    </tr>\n",
       "  </thead>\n",
       "  <tbody>\n",
       "    <tr>\n",
       "      <th>0</th>\n",
       "      <td>842</td>\n",
       "      <td>0</td>\n",
       "      <td>2.2</td>\n",
       "      <td>0</td>\n",
       "      <td>1</td>\n",
       "      <td>0</td>\n",
       "      <td>7</td>\n",
       "      <td>0.6</td>\n",
       "      <td>188</td>\n",
       "      <td>2</td>\n",
       "      <td>2</td>\n",
       "      <td>20</td>\n",
       "      <td>756</td>\n",
       "      <td>2549</td>\n",
       "      <td>9</td>\n",
       "      <td>7</td>\n",
       "      <td>19</td>\n",
       "      <td>0</td>\n",
       "      <td>0</td>\n",
       "      <td>1</td>\n",
       "    </tr>\n",
       "    <tr>\n",
       "      <th>1</th>\n",
       "      <td>1021</td>\n",
       "      <td>1</td>\n",
       "      <td>0.5</td>\n",
       "      <td>1</td>\n",
       "      <td>0</td>\n",
       "      <td>1</td>\n",
       "      <td>53</td>\n",
       "      <td>0.7</td>\n",
       "      <td>136</td>\n",
       "      <td>3</td>\n",
       "      <td>6</td>\n",
       "      <td>905</td>\n",
       "      <td>1988</td>\n",
       "      <td>2631</td>\n",
       "      <td>17</td>\n",
       "      <td>3</td>\n",
       "      <td>7</td>\n",
       "      <td>1</td>\n",
       "      <td>1</td>\n",
       "      <td>0</td>\n",
       "    </tr>\n",
       "    <tr>\n",
       "      <th>2</th>\n",
       "      <td>563</td>\n",
       "      <td>1</td>\n",
       "      <td>0.5</td>\n",
       "      <td>1</td>\n",
       "      <td>2</td>\n",
       "      <td>1</td>\n",
       "      <td>41</td>\n",
       "      <td>0.9</td>\n",
       "      <td>145</td>\n",
       "      <td>5</td>\n",
       "      <td>6</td>\n",
       "      <td>1263</td>\n",
       "      <td>1716</td>\n",
       "      <td>2603</td>\n",
       "      <td>11</td>\n",
       "      <td>2</td>\n",
       "      <td>9</td>\n",
       "      <td>1</td>\n",
       "      <td>1</td>\n",
       "      <td>0</td>\n",
       "    </tr>\n",
       "    <tr>\n",
       "      <th>3</th>\n",
       "      <td>615</td>\n",
       "      <td>1</td>\n",
       "      <td>2.5</td>\n",
       "      <td>0</td>\n",
       "      <td>0</td>\n",
       "      <td>0</td>\n",
       "      <td>10</td>\n",
       "      <td>0.8</td>\n",
       "      <td>131</td>\n",
       "      <td>6</td>\n",
       "      <td>9</td>\n",
       "      <td>1216</td>\n",
       "      <td>1786</td>\n",
       "      <td>2769</td>\n",
       "      <td>16</td>\n",
       "      <td>8</td>\n",
       "      <td>11</td>\n",
       "      <td>1</td>\n",
       "      <td>0</td>\n",
       "      <td>0</td>\n",
       "    </tr>\n",
       "    <tr>\n",
       "      <th>4</th>\n",
       "      <td>1821</td>\n",
       "      <td>1</td>\n",
       "      <td>1.2</td>\n",
       "      <td>0</td>\n",
       "      <td>13</td>\n",
       "      <td>1</td>\n",
       "      <td>44</td>\n",
       "      <td>0.6</td>\n",
       "      <td>141</td>\n",
       "      <td>2</td>\n",
       "      <td>14</td>\n",
       "      <td>1208</td>\n",
       "      <td>1212</td>\n",
       "      <td>1411</td>\n",
       "      <td>8</td>\n",
       "      <td>2</td>\n",
       "      <td>15</td>\n",
       "      <td>1</td>\n",
       "      <td>1</td>\n",
       "      <td>0</td>\n",
       "    </tr>\n",
       "  </tbody>\n",
       "</table>\n",
       "</div>"
      ],
      "text/plain": [
       "   battery_power  blue  clock_speed  dual_sim  fc  four_g  int_memory  m_dep  \\\n",
       "0            842     0          2.2         0   1       0           7    0.6   \n",
       "1           1021     1          0.5         1   0       1          53    0.7   \n",
       "2            563     1          0.5         1   2       1          41    0.9   \n",
       "3            615     1          2.5         0   0       0          10    0.8   \n",
       "4           1821     1          1.2         0  13       1          44    0.6   \n",
       "\n",
       "   mobile_wt  n_cores  pc  px_height  px_width   ram  sc_h  sc_w  talk_time  \\\n",
       "0        188        2   2         20       756  2549     9     7         19   \n",
       "1        136        3   6        905      1988  2631    17     3          7   \n",
       "2        145        5   6       1263      1716  2603    11     2          9   \n",
       "3        131        6   9       1216      1786  2769    16     8         11   \n",
       "4        141        2  14       1208      1212  1411     8     2         15   \n",
       "\n",
       "   three_g  touch_screen  wifi  \n",
       "0        0             0     1  \n",
       "1        1             1     0  \n",
       "2        1             1     0  \n",
       "3        1             0     0  \n",
       "4        1             1     0  "
      ]
     },
     "execution_count": 8,
     "metadata": {},
     "output_type": "execute_result"
    }
   ],
   "source": [
    "X.head()"
   ]
  },
  {
   "cell_type": "code",
   "execution_count": 9,
   "id": "natural-growing",
   "metadata": {},
   "outputs": [
    {
     "data": {
      "text/plain": [
       "0    1\n",
       "1    2\n",
       "2    2\n",
       "3    2\n",
       "4    1\n",
       "Name: price_range, dtype: int64"
      ]
     },
     "execution_count": 9,
     "metadata": {},
     "output_type": "execute_result"
    }
   ],
   "source": [
    "y.head()"
   ]
  },
  {
   "cell_type": "code",
   "execution_count": 10,
   "id": "super-armor",
   "metadata": {},
   "outputs": [
    {
     "data": {
      "text/plain": [
       "0    500\n",
       "1    500\n",
       "2    500\n",
       "3    500\n",
       "Name: price_range, dtype: int64"
      ]
     },
     "execution_count": 10,
     "metadata": {},
     "output_type": "execute_result"
    }
   ],
   "source": [
    "y.value_counts()"
   ]
  },
  {
   "cell_type": "code",
   "execution_count": 11,
   "id": "retired-liquid",
   "metadata": {},
   "outputs": [
    {
     "data": {
      "text/plain": [
       "RandomForestRegressor()"
      ]
     },
     "execution_count": 11,
     "metadata": {},
     "output_type": "execute_result"
    }
   ],
   "source": [
    "model = RandomForestRegressor()\n",
    "X_train,X_test,y_train,y_test = train_test_split(X,y,test_size=0.2,random_state=0)\n",
    "model.fit(X_train,y_train)"
   ]
  },
  {
   "cell_type": "code",
   "execution_count": 12,
   "id": "raised-lewis",
   "metadata": {},
   "outputs": [
    {
     "name": "stdout",
     "output_type": "stream",
     "text": [
      "[2.99 0.   1.98 1.73 2.71 0.   0.05 2.69 2.84 0.96 0.25 2.97 0.07 1.98\n",
      " 3.   0.01 2.99 2.03 2.   0.96 0.1  0.02 3.   0.97 1.69 1.85 3.   0.85\n",
      " 2.98 1.01 1.28 0.13 1.56 0.26 1.47 3.   0.01 0.15 2.98 3.   2.47 1.08\n",
      " 2.97 2.55 1.02 2.99 0.   1.08 2.64 0.94 0.91 2.9  0.01 2.59 0.   2.43\n",
      " 2.71 1.16 0.   2.71 2.91 1.01 2.64 2.01 1.36 2.25 2.96 2.45 1.39 1.97\n",
      " 2.92 1.94 1.   0.   0.84 2.99 2.01 1.71 1.72 1.86 2.99 2.76 2.83 0.03\n",
      " 0.   0.02 2.   0.67 1.96 2.99 1.06 2.54 2.36 0.35 0.06 2.7  2.61 2.98\n",
      " 0.   3.   1.36 1.2  2.75 1.03 3.   1.84 2.11 2.69 2.   3.   2.85 0.\n",
      " 0.   1.12 2.42 2.81 0.01 0.78 0.78 0.   0.63 3.   1.8  2.   1.05 1.93\n",
      " 1.   0.99 0.01 2.03 1.02 3.   2.48 2.9  3.   3.   3.   1.78 0.   0.89\n",
      " 1.01 1.98 1.85 2.96 0.23 2.91 0.08 0.02 1.97 0.   1.08 1.   1.21 1.\n",
      " 3.   0.61 0.23 2.99 1.11 2.94 1.99 1.04 2.84 1.   2.09 3.   2.86 2.31\n",
      " 1.03 0.   3.   1.93 1.87 2.55 3.   0.11 1.54 1.97 2.99 0.28 2.55 0.96\n",
      " 0.08 1.32 2.53 1.29 2.29 0.   2.13 2.98 1.23 0.93 0.51 2.21 2.86 0.04\n",
      " 0.88 2.5  1.62 0.   2.99 3.   2.6  1.26 1.75 2.84 2.76 2.87 0.21 0.\n",
      " 0.   1.99 2.9  2.96 0.   0.03 0.85 2.96 1.51 2.99 2.96 2.98 0.01 0.\n",
      " 2.43 2.27 2.79 1.86 0.04 2.   0.02 0.   0.   2.99 2.85 0.47 2.02 1.94\n",
      " 0.29 0.8  0.25 2.42 2.97 2.92 0.   0.   1.01 2.86 2.9  1.06 2.76 0.02\n",
      " 2.98 0.96 1.   0.   1.73 2.97 2.62 2.05 0.06 0.08 1.01 2.1  3.   2.\n",
      " 1.87 2.99 1.53 1.14 0.49 3.   2.92 1.81 1.42 2.99 2.51 1.93 1.97 0.87\n",
      " 0.   1.94 1.41 1.42 0.15 0.   2.38 1.94 2.04 2.05 0.   1.11 2.78 0.\n",
      " 1.11 2.29 2.94 0.06 1.94 0.05 0.63 1.39 2.99 0.   0.   1.51 2.97 0.82\n",
      " 1.64 0.3  1.64 0.05 2.95 0.13 2.91 3.   2.3  2.7  0.7  1.8  1.98 0.83\n",
      " 0.93 1.36 0.04 1.02 0.02 2.8  1.08 0.13 2.91 0.87 0.01 0.95 2.04 0.\n",
      " 3.   1.19 1.92 0.32 0.84 2.92 0.   1.88 1.58 0.88 1.57 1.44 1.51 0.01\n",
      " 2.06 0.   0.46 3.   1.05 2.52 3.   1.92 2.09 0.05 2.98 2.53 1.77 1.04\n",
      " 2.58 2.32 3.   2.99 3.   0.   2.52 0.06 2.39 0.01 0.93 0.92 1.96 2.64\n",
      " 1.36 2.79 0.99 1.68 0.43 1.18 1.94 2.81 0.08 0.23 0.85 3.   0.06 2.68\n",
      " 0.02 1.21 1.98 0.94 0.78 0.   2.62 0.74]\n"
     ]
    }
   ],
   "source": [
    "prediction = model.predict(X_test)\n",
    "print(prediction)"
   ]
  },
  {
   "cell_type": "code",
   "execution_count": 13,
   "id": "failing-chick",
   "metadata": {},
   "outputs": [
    {
     "name": "stdout",
     "output_type": "stream",
     "text": [
      "0.175625\n"
     ]
    }
   ],
   "source": [
    "from sklearn.metrics import mean_absolute_error\n",
    "\n",
    "print(mean_absolute_error(y_test,prediction))"
   ]
  },
  {
   "cell_type": "code",
   "execution_count": 14,
   "id": "expired-amendment",
   "metadata": {},
   "outputs": [
    {
     "data": {
      "text/plain": [
       "0.9912692292162959"
      ]
     },
     "execution_count": 14,
     "metadata": {},
     "output_type": "execute_result"
    }
   ],
   "source": [
    "model.score(X_train,y_train)"
   ]
  },
  {
   "cell_type": "code",
   "execution_count": 15,
   "id": "molecular-straight",
   "metadata": {},
   "outputs": [
    {
     "data": {
      "text/plain": [
       "0.9380601039888251"
      ]
     },
     "execution_count": 15,
     "metadata": {},
     "output_type": "execute_result"
    }
   ],
   "source": [
    "model.score(X_test,y_test)"
   ]
  },
  {
   "cell_type": "code",
   "execution_count": 16,
   "id": "premium-championship",
   "metadata": {},
   "outputs": [],
   "source": [
    "import pickle\n",
    "file = open(\"mobilePredictionPickle.pkl\",\"wb\")\n",
    "pickle.dump(model,file)"
   ]
  },
  {
   "cell_type": "code",
   "execution_count": 17,
   "id": "early-commissioner",
   "metadata": {},
   "outputs": [
    {
     "data": {
      "text/html": [
       "<div>\n",
       "<style scoped>\n",
       "    .dataframe tbody tr th:only-of-type {\n",
       "        vertical-align: middle;\n",
       "    }\n",
       "\n",
       "    .dataframe tbody tr th {\n",
       "        vertical-align: top;\n",
       "    }\n",
       "\n",
       "    .dataframe thead th {\n",
       "        text-align: right;\n",
       "    }\n",
       "</style>\n",
       "<table border=\"1\" class=\"dataframe\">\n",
       "  <thead>\n",
       "    <tr style=\"text-align: right;\">\n",
       "      <th></th>\n",
       "      <th>battery_power</th>\n",
       "      <th>blue</th>\n",
       "      <th>clock_speed</th>\n",
       "      <th>dual_sim</th>\n",
       "      <th>fc</th>\n",
       "      <th>four_g</th>\n",
       "      <th>int_memory</th>\n",
       "      <th>m_dep</th>\n",
       "      <th>mobile_wt</th>\n",
       "      <th>n_cores</th>\n",
       "      <th>pc</th>\n",
       "      <th>px_height</th>\n",
       "      <th>px_width</th>\n",
       "      <th>ram</th>\n",
       "      <th>sc_h</th>\n",
       "      <th>sc_w</th>\n",
       "      <th>talk_time</th>\n",
       "      <th>three_g</th>\n",
       "      <th>touch_screen</th>\n",
       "      <th>wifi</th>\n",
       "    </tr>\n",
       "  </thead>\n",
       "  <tbody>\n",
       "    <tr>\n",
       "      <th>582</th>\n",
       "      <td>1232</td>\n",
       "      <td>0</td>\n",
       "      <td>2.9</td>\n",
       "      <td>1</td>\n",
       "      <td>1</td>\n",
       "      <td>1</td>\n",
       "      <td>24</td>\n",
       "      <td>0.3</td>\n",
       "      <td>169</td>\n",
       "      <td>5</td>\n",
       "      <td>17</td>\n",
       "      <td>361</td>\n",
       "      <td>809</td>\n",
       "      <td>1257</td>\n",
       "      <td>16</td>\n",
       "      <td>10</td>\n",
       "      <td>16</td>\n",
       "      <td>1</td>\n",
       "      <td>0</td>\n",
       "      <td>0</td>\n",
       "    </tr>\n",
       "    <tr>\n",
       "      <th>159</th>\n",
       "      <td>1840</td>\n",
       "      <td>0</td>\n",
       "      <td>0.5</td>\n",
       "      <td>1</td>\n",
       "      <td>12</td>\n",
       "      <td>0</td>\n",
       "      <td>34</td>\n",
       "      <td>0.7</td>\n",
       "      <td>142</td>\n",
       "      <td>1</td>\n",
       "      <td>16</td>\n",
       "      <td>311</td>\n",
       "      <td>1545</td>\n",
       "      <td>1078</td>\n",
       "      <td>8</td>\n",
       "      <td>0</td>\n",
       "      <td>10</td>\n",
       "      <td>0</td>\n",
       "      <td>0</td>\n",
       "      <td>0</td>\n",
       "    </tr>\n",
       "    <tr>\n",
       "      <th>1827</th>\n",
       "      <td>1692</td>\n",
       "      <td>0</td>\n",
       "      <td>2.1</td>\n",
       "      <td>0</td>\n",
       "      <td>4</td>\n",
       "      <td>1</td>\n",
       "      <td>2</td>\n",
       "      <td>0.9</td>\n",
       "      <td>106</td>\n",
       "      <td>1</td>\n",
       "      <td>17</td>\n",
       "      <td>1899</td>\n",
       "      <td>1904</td>\n",
       "      <td>3779</td>\n",
       "      <td>9</td>\n",
       "      <td>3</td>\n",
       "      <td>7</td>\n",
       "      <td>1</td>\n",
       "      <td>1</td>\n",
       "      <td>1</td>\n",
       "    </tr>\n",
       "    <tr>\n",
       "      <th>318</th>\n",
       "      <td>508</td>\n",
       "      <td>0</td>\n",
       "      <td>0.8</td>\n",
       "      <td>0</td>\n",
       "      <td>7</td>\n",
       "      <td>1</td>\n",
       "      <td>42</td>\n",
       "      <td>0.3</td>\n",
       "      <td>94</td>\n",
       "      <td>1</td>\n",
       "      <td>8</td>\n",
       "      <td>39</td>\n",
       "      <td>557</td>\n",
       "      <td>663</td>\n",
       "      <td>13</td>\n",
       "      <td>12</td>\n",
       "      <td>7</td>\n",
       "      <td>1</td>\n",
       "      <td>0</td>\n",
       "      <td>0</td>\n",
       "    </tr>\n",
       "    <tr>\n",
       "      <th>708</th>\n",
       "      <td>977</td>\n",
       "      <td>1</td>\n",
       "      <td>2.8</td>\n",
       "      <td>1</td>\n",
       "      <td>2</td>\n",
       "      <td>0</td>\n",
       "      <td>35</td>\n",
       "      <td>0.6</td>\n",
       "      <td>165</td>\n",
       "      <td>2</td>\n",
       "      <td>15</td>\n",
       "      <td>1502</td>\n",
       "      <td>1862</td>\n",
       "      <td>3714</td>\n",
       "      <td>19</td>\n",
       "      <td>3</td>\n",
       "      <td>10</td>\n",
       "      <td>0</td>\n",
       "      <td>1</td>\n",
       "      <td>1</td>\n",
       "    </tr>\n",
       "  </tbody>\n",
       "</table>\n",
       "</div>"
      ],
      "text/plain": [
       "      battery_power  blue  clock_speed  dual_sim  fc  four_g  int_memory  \\\n",
       "582            1232     0          2.9         1   1       1          24   \n",
       "159            1840     0          0.5         1  12       0          34   \n",
       "1827           1692     0          2.1         0   4       1           2   \n",
       "318             508     0          0.8         0   7       1          42   \n",
       "708             977     1          2.8         1   2       0          35   \n",
       "\n",
       "      m_dep  mobile_wt  n_cores  pc  px_height  px_width   ram  sc_h  sc_w  \\\n",
       "582     0.3        169        5  17        361       809  1257    16    10   \n",
       "159     0.7        142        1  16        311      1545  1078     8     0   \n",
       "1827    0.9        106        1  17       1899      1904  3779     9     3   \n",
       "318     0.3         94        1   8         39       557   663    13    12   \n",
       "708     0.6        165        2  15       1502      1862  3714    19     3   \n",
       "\n",
       "      talk_time  three_g  touch_screen  wifi  \n",
       "582          16        1             0     0  \n",
       "159          10        0             0     0  \n",
       "1827          7        1             1     1  \n",
       "318           7        1             0     0  \n",
       "708          10        0             1     1  "
      ]
     },
     "execution_count": 17,
     "metadata": {},
     "output_type": "execute_result"
    }
   ],
   "source": [
    "X_train.head()"
   ]
  },
  {
   "cell_type": "code",
   "execution_count": 18,
   "id": "neural-petroleum",
   "metadata": {},
   "outputs": [
    {
     "data": {
      "text/plain": [
       "582     0\n",
       "159     1\n",
       "1827    3\n",
       "318     0\n",
       "708     3\n",
       "Name: price_range, dtype: int64"
      ]
     },
     "execution_count": 18,
     "metadata": {},
     "output_type": "execute_result"
    }
   ],
   "source": [
    "y_train.head()"
   ]
  },
  {
   "cell_type": "code",
   "execution_count": 33,
   "id": "tamil-parameter",
   "metadata": {},
   "outputs": [
    {
     "data": {
      "text/plain": [
       "XGBRegressor(base_score=0.5, booster='gbtree', colsample_bylevel=1,\n",
       "             colsample_bynode=1, colsample_bytree=1, gamma=0, gpu_id=-1,\n",
       "             importance_type='gain', interaction_constraints='',\n",
       "             learning_rate=0.1, max_delta_step=0, max_depth=6,\n",
       "             min_child_weight=1, missing=nan, monotone_constraints='()',\n",
       "             n_estimators=1000, n_jobs=4, num_parallel_tree=1, random_state=0,\n",
       "             reg_alpha=0, reg_lambda=1, scale_pos_weight=1, subsample=1,\n",
       "             tree_method='exact', validate_parameters=1, verbosity=None)"
      ]
     },
     "execution_count": 33,
     "metadata": {},
     "output_type": "execute_result"
    }
   ],
   "source": [
    "from xgboost import XGBRegressor\n",
    "modelX = XGBRegressor(n_estimators=1000,learning_rate=0.1,n_jobs =4)\n",
    "modelX.fit(X_train,y_train)"
   ]
  },
  {
   "cell_type": "code",
   "execution_count": 34,
   "id": "blocked-latino",
   "metadata": {},
   "outputs": [
    {
     "name": "stderr",
     "output_type": "stream",
     "text": [
      "c:\\users\\munni\\appdata\\local\\programs\\python\\python38\\lib\\site-packages\\xgboost\\data.py:112: UserWarning: Use subset (sliced data) of np.ndarray is not recommended because it will generate extra copies and increase memory consumption\n",
      "  warnings.warn(\n"
     ]
    }
   ],
   "source": [
    "predictions = modelX.predict(X_test)"
   ]
  },
  {
   "cell_type": "code",
   "execution_count": 22,
   "id": "better-accounting",
   "metadata": {},
   "outputs": [
    {
     "data": {
      "text/plain": [
       "array([ 2.94422841e+00, -2.58401199e-03,  1.86946094e+00,  1.73651087e+00,\n",
       "        2.72600842e+00, -3.03398613e-02,  1.06653050e-01,  2.79966998e+00,\n",
       "        2.93517971e+00,  1.08736289e+00,  1.29980311e-01,  2.92416000e+00,\n",
       "        1.37620404e-01,  2.14119840e+00,  2.95392251e+00,  6.12995997e-02,\n",
       "        3.00104213e+00,  2.11278749e+00,  1.82191885e+00,  5.85026205e-01,\n",
       "        1.29752103e-02,  1.23379320e-01,  2.99849653e+00,  8.72764647e-01,\n",
       "        1.99331486e+00,  1.66348195e+00,  3.00341463e+00,  1.00525105e+00,\n",
       "        2.94816971e+00,  1.19047654e+00,  1.23803747e+00,  7.15158507e-02,\n",
       "        1.70941353e+00,  3.35941523e-01,  1.53835678e+00,  3.03343248e+00,\n",
       "        2.29325183e-02,  1.73087984e-01,  3.01989770e+00,  3.00073266e+00,\n",
       "        2.51358247e+00,  9.98927176e-01,  2.95804095e+00,  2.12115169e+00,\n",
       "        9.98962939e-01,  2.92939973e+00,  3.52421566e-03,  1.08738434e+00,\n",
       "        2.64574838e+00,  9.09321547e-01,  9.67144907e-01,  2.92343664e+00,\n",
       "        2.83502303e-02,  2.37558031e+00,  3.15626105e-03,  2.10008788e+00,\n",
       "        2.56792045e+00,  1.12818801e+00, -3.62623520e-02,  2.63234115e+00,\n",
       "        2.91044378e+00,  1.02856600e+00,  2.67774582e+00,  1.98275054e+00,\n",
       "        1.21758330e+00,  2.37918305e+00,  3.03631020e+00,  2.29693389e+00,\n",
       "        1.54478955e+00,  2.01159883e+00,  2.95685601e+00,  2.00479388e+00,\n",
       "        1.02954245e+00, -1.81589033e-02,  9.32871461e-01,  3.02089977e+00,\n",
       "        2.04259992e+00,  1.68762326e+00,  1.60039687e+00,  2.09441495e+00,\n",
       "        2.98953938e+00,  2.55934334e+00,  2.94930601e+00,  4.00936343e-02,\n",
       "       -2.35895701e-02, -1.51011065e-01,  1.81189358e+00,  9.97939765e-01,\n",
       "        1.97991455e+00,  2.96184373e+00,  1.09338355e+00,  2.54181957e+00,\n",
       "        2.24149227e+00,  2.58390963e-01,  7.12275282e-02,  2.45043755e+00,\n",
       "        2.49783134e+00,  3.01131296e+00,  6.62849545e-02,  2.94593573e+00,\n",
       "        1.46212399e+00,  1.29692483e+00,  2.85605502e+00,  9.68691766e-01,\n",
       "        3.02881932e+00,  1.71106017e+00,  2.27099347e+00,  2.70105100e+00,\n",
       "        1.69969690e+00,  3.02264476e+00,  2.82842159e+00, -5.04520815e-03,\n",
       "        1.29358526e-02,  1.11511981e+00,  2.33022356e+00,  2.98823190e+00,\n",
       "       -8.31731223e-03,  6.10637188e-01,  7.77748704e-01,  1.95699260e-02,\n",
       "        3.07587743e-01,  2.95206761e+00,  1.90062392e+00,  1.92428935e+00,\n",
       "        1.03758073e+00,  1.62096572e+00,  1.03058040e+00,  1.06903028e+00,\n",
       "        4.95965406e-02,  2.02945256e+00,  9.72221792e-01,  2.98316216e+00,\n",
       "        2.44854045e+00,  3.05996966e+00,  3.04630828e+00,  3.06284380e+00,\n",
       "        2.98342299e+00,  1.72763431e+00, -4.92169671e-02,  8.49007249e-01,\n",
       "        9.85896826e-01,  2.06905079e+00,  1.67436695e+00,  3.01638246e+00,\n",
       "        1.87032133e-01,  3.07561111e+00, -3.97777483e-02,  1.85345002e-02,\n",
       "        1.69452238e+00, -1.96616519e-02,  1.05367863e+00,  8.93500745e-01,\n",
       "        1.15924788e+00,  1.03312898e+00,  3.00144887e+00,  6.49009347e-01,\n",
       "        3.11097175e-01,  3.06139398e+00,  1.16957378e+00,  3.07312369e+00,\n",
       "        2.00156403e+00,  1.09121823e+00,  2.91727328e+00,  1.02483916e+00,\n",
       "        2.33239579e+00,  3.03089809e+00,  3.00731564e+00,  2.26826000e+00,\n",
       "        9.70583320e-01,  7.36541068e-03,  3.01980019e+00,  1.81527102e+00,\n",
       "        1.87542033e+00,  2.91955996e+00,  2.97188997e+00, -5.73115610e-02,\n",
       "        1.70887995e+00,  1.93143773e+00,  3.03050280e+00,  6.30148314e-03,\n",
       "        2.70672655e+00,  9.68663812e-01, -2.03333184e-01,  1.10759437e+00,\n",
       "        2.59635210e+00,  1.37705195e+00,  2.19344401e+00, -2.38325167e-02,\n",
       "        2.40233088e+00,  3.06242800e+00,  1.24549925e+00,  9.82541561e-01,\n",
       "        1.33084863e-01,  2.18168736e+00,  2.87453580e+00,  6.35754243e-02,\n",
       "        9.09263730e-01,  2.21748161e+00,  1.35683119e+00,  3.98420356e-02,\n",
       "        3.04741788e+00,  3.04543829e+00,  2.65090775e+00,  1.16376770e+00,\n",
       "        1.86436081e+00,  2.98033118e+00,  2.74516058e+00,  2.79580879e+00,\n",
       "        2.47661069e-01,  5.09840064e-02, -1.25381211e-02,  1.99861968e+00,\n",
       "        2.80547357e+00,  3.00053835e+00, -4.40296950e-03, -2.24100277e-02,\n",
       "        8.14675570e-01,  2.93700171e+00,  1.54755437e+00,  3.01740384e+00,\n",
       "        2.85959053e+00,  3.02562761e+00, -3.21936160e-02, -8.92528053e-03,\n",
       "        2.32913089e+00,  2.36958551e+00,  2.90804505e+00,  1.55438399e+00,\n",
       "       -7.77315162e-03,  1.86653280e+00, -1.08832173e-01,  2.05444377e-02,\n",
       "        1.39889801e-02,  3.09825826e+00,  2.84954333e+00,  4.68491584e-01,\n",
       "        1.99274993e+00,  1.73084354e+00,  2.45883897e-01,  6.41580820e-01,\n",
       "        9.16153565e-02,  2.30302906e+00,  3.00216389e+00,  3.05442619e+00,\n",
       "       -9.46844667e-02, -3.40110646e-03,  1.12249279e+00,  2.80477095e+00,\n",
       "        2.98955894e+00,  1.15893686e+00,  2.92121959e+00,  1.52510544e-03,\n",
       "        3.00411868e+00,  7.95989275e-01,  9.31465566e-01, -2.17902400e-02,\n",
       "        1.54599023e+00,  2.97350883e+00,  2.68341637e+00,  1.98874974e+00,\n",
       "       -5.34606585e-03,  1.75695922e-02,  9.34661210e-01,  2.21234322e+00,\n",
       "        3.07977247e+00,  1.89793003e+00,  1.66275489e+00,  3.06263685e+00,\n",
       "        1.48324060e+00,  1.08570921e+00,  5.86122751e-01,  2.97598863e+00,\n",
       "        2.80496955e+00,  1.85861385e+00,  1.36310089e+00,  3.04338479e+00,\n",
       "        2.45653486e+00,  1.86570621e+00,  2.03030229e+00,  1.06187212e+00,\n",
       "        4.73164916e-02,  2.11694312e+00,  1.38608086e+00,  1.27472198e+00,\n",
       "        2.63370484e-01, -7.03359582e-03,  2.28694034e+00,  1.89105928e+00,\n",
       "        2.00746894e+00,  2.14952517e+00,  1.91243775e-02,  9.55026925e-01,\n",
       "        2.90447736e+00, -1.39615713e-02,  1.22633934e+00,  2.17084169e+00,\n",
       "        3.07003832e+00,  8.01408514e-02,  1.93955386e+00,  6.71265274e-02,\n",
       "        7.63152659e-01,  1.35997200e+00,  2.96656489e+00,  1.26259297e-03,\n",
       "       -2.80879857e-03,  1.48227274e+00,  2.96473360e+00,  8.13102543e-01,\n",
       "        1.63392758e+00,  2.61556655e-01,  1.60131812e+00,  8.28710049e-02,\n",
       "        2.99001455e+00,  1.26689613e-01,  2.97366738e+00,  2.99394679e+00,\n",
       "        2.27322412e+00,  2.70323253e+00,  6.06689870e-01,  1.89238191e+00,\n",
       "        2.10278797e+00,  9.07758236e-01,  1.06576669e+00,  1.62757611e+00,\n",
       "        3.31815965e-02,  9.10804391e-01, -8.23980570e-03,  2.87599564e+00,\n",
       "        1.02733302e+00,  2.01589286e-01,  2.77412891e+00,  7.41804779e-01,\n",
       "        7.99513794e-03,  9.77219105e-01,  2.17614102e+00, -3.73429246e-02,\n",
       "        3.02757025e+00,  1.27979350e+00,  1.85674548e+00,  1.74551785e-01,\n",
       "        1.02703846e+00,  2.94827652e+00, -2.25119106e-02,  1.89337540e+00,\n",
       "        1.69469583e+00,  9.31171060e-01,  1.58491814e+00,  1.34014249e+00,\n",
       "        1.32735050e+00,  9.54347756e-03,  2.09138036e+00, -3.06880735e-02,\n",
       "        4.82990146e-01,  3.01293015e+00,  1.08127499e+00,  2.15360618e+00,\n",
       "        3.06126094e+00,  2.08413815e+00,  2.16088891e+00, -3.55024338e-02,\n",
       "        3.01700568e+00,  2.49993396e+00,  1.70349061e+00,  1.10153759e+00,\n",
       "        2.65336013e+00,  2.01794767e+00,  2.98145795e+00,  3.00377107e+00,\n",
       "        2.97548556e+00, -8.26327801e-02,  2.40354180e+00,  5.41755632e-02,\n",
       "        2.17883110e+00,  1.65898968e-02,  9.59654212e-01,  9.59404528e-01,\n",
       "        1.82352924e+00,  2.67457247e+00,  1.34047830e+00,  2.92183781e+00,\n",
       "        9.47488964e-01,  1.66525364e+00,  3.49131197e-01,  1.11939323e+00,\n",
       "        2.16436124e+00,  2.73235917e+00,  1.20785445e-01,  2.71395415e-01,\n",
       "        9.12715614e-01,  2.97739482e+00, -2.97183115e-02,  2.57759094e+00,\n",
       "       -1.02011599e-02,  1.22564209e+00,  1.99216878e+00,  9.18453634e-01,\n",
       "        7.50450671e-01, -5.53772859e-02,  2.74457717e+00,  9.59557533e-01],\n",
       "      dtype=float32)"
      ]
     },
     "execution_count": 22,
     "metadata": {},
     "output_type": "execute_result"
    }
   ],
   "source": [
    "predictions"
   ]
  },
  {
   "cell_type": "code",
   "execution_count": 35,
   "id": "flying-iceland",
   "metadata": {},
   "outputs": [
    {
     "data": {
      "text/plain": [
       "0.9999972105441386"
      ]
     },
     "execution_count": 35,
     "metadata": {},
     "output_type": "execute_result"
    }
   ],
   "source": [
    "modelX.score(X_train,y_train)"
   ]
  },
  {
   "cell_type": "code",
   "execution_count": 26,
   "id": "impaired-bobby",
   "metadata": {},
   "outputs": [
    {
     "name": "stderr",
     "output_type": "stream",
     "text": [
      "c:\\users\\munni\\appdata\\local\\programs\\python\\python38\\lib\\site-packages\\xgboost\\data.py:112: UserWarning: Use subset (sliced data) of np.ndarray is not recommended because it will generate extra copies and increase memory consumption\n",
      "  warnings.warn(\n"
     ]
    },
    {
     "data": {
      "text/plain": [
       "0.9397268069843776"
      ]
     },
     "execution_count": 26,
     "metadata": {},
     "output_type": "execute_result"
    }
   ],
   "source": [
    "modelX.score(X_test,y_test)"
   ]
  },
  {
   "cell_type": "code",
   "execution_count": 31,
   "id": "lovely-bullet",
   "metadata": {},
   "outputs": [
    {
     "data": {
      "text/plain": [
       "Index(['battery_power', 'blue', 'clock_speed', 'dual_sim', 'fc', 'four_g',\n",
       "       'int_memory', 'm_dep', 'mobile_wt', 'n_cores', 'pc', 'px_height',\n",
       "       'px_width', 'ram', 'sc_h', 'sc_w', 'talk_time', 'three_g',\n",
       "       'touch_screen', 'wifi'],\n",
       "      dtype='object')"
      ]
     },
     "execution_count": 31,
     "metadata": {},
     "output_type": "execute_result"
    }
   ],
   "source": [
    "X.columns"
   ]
  },
  {
   "cell_type": "code",
   "execution_count": 29,
   "id": "growing-munich",
   "metadata": {},
   "outputs": [
    {
     "data": {
      "text/plain": [
       "Index(['battery_power', 'blue', 'clock_speed', 'dual_sim', 'fc', 'four_g',\n",
       "       'int_memory', 'm_dep', 'mobile_wt', 'n_cores', 'pc', 'px_height',\n",
       "       'px_width', 'ram', 'sc_h', 'sc_w', 'talk_time', 'three_g',\n",
       "       'touch_screen', 'wifi'],\n",
       "      dtype='object')"
      ]
     },
     "execution_count": 29,
     "metadata": {},
     "output_type": "execute_result"
    }
   ],
   "source": [
    "X_train.columns"
   ]
  },
  {
   "cell_type": "code",
   "execution_count": null,
   "id": "north-seattle",
   "metadata": {},
   "outputs": [],
   "source": []
  }
 ],
 "metadata": {
  "kernelspec": {
   "display_name": "Python 3",
   "language": "python",
   "name": "python3"
  },
  "language_info": {
   "codemirror_mode": {
    "name": "ipython",
    "version": 3
   },
   "file_extension": ".py",
   "mimetype": "text/x-python",
   "name": "python",
   "nbconvert_exporter": "python",
   "pygments_lexer": "ipython3",
   "version": "3.8.5"
  }
 },
 "nbformat": 4,
 "nbformat_minor": 5
}
